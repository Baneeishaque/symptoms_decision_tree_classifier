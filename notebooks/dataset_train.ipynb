{
  "cells": [
    {
      "cell_type": "code",
      "execution_count": 1,
      "metadata": {
        "pycharm": {
          "is_executing": false,
          "metadata": false,
          "name": "#%%\n"
        }
      },
      "outputs": [
        {
          "name": "stdout",
          "output_type": "stream",
          "text": [
            "seaborn: 0.9.0\n"
          ]
        }
      ],
      "source": [
        "\n",
        "# seaborn\n",
        "import seaborn\n",
        "\n",
        "print(\u0027seaborn: {}\u0027.format(seaborn.__version__))\n"
      ]
    },
    {
      "cell_type": "code",
      "execution_count": 2,
      "metadata": {
        "pycharm": {
          "is_executing": false,
          "metadata": false,
          "name": "#%%\n"
        }
      },
      "outputs": [
        {
          "name": "stdout",
          "output_type": "stream",
          "text": [
            "matplotlib: 3.0.0\n"
          ]
        }
      ],
      "source": [
        "\n",
        "# matplotlib\n",
        "import matplotlib\n",
        "\n",
        "print(\u0027matplotlib: {}\u0027.format(matplotlib.__version__))\n"
      ]
    },
    {
      "cell_type": "code",
      "execution_count": 3,
      "metadata": {
        "pycharm": {
          "is_executing": false,
          "metadata": false,
          "name": "#%%\n"
        }
      },
      "outputs": [
        {
          "name": "stdout",
          "output_type": "stream",
          "text": [
            "sklearn: 0.17.1\n"
          ]
        }
      ],
      "source": [
        "\n",
        "# sklearn\n",
        "import sklearn\n",
        "\n",
        "print(\u0027sklearn: {}\u0027.format(sklearn.__version__))\n"
      ]
    },
    {
      "cell_type": "code",
      "execution_count": 1,
      "metadata": {
        "pycharm": {
          "is_executing": false,
          "metadata": false,
          "name": "#%%\n"
        }
      },
      "outputs": [
        {
          "data": {
            "text/plain": "                                   Source  Heberden\u0027s node  Murphy\u0027s sign  \\\n0                     Alzheimer\u0027s disease                0              0   \n1                                     HIV                0              0   \n2    PneumocystisÃÂ cariniiÃÂ pneumonia                0              0   \n3             accidentÃÂ cerebrovascular                0              0   \n4  acquiredÃÂ immuno-deficiency syndrome                0              0   \n\n   Stahli\u0027s line  abdomen acute  abdominal bloating  abdominal tenderness  \\\n0              0              0                   0                     0   \n1              0              0                   0                     0   \n2              0              0                   0                     0   \n3              0              0                   0                     0   \n4              0              0                   0                     0   \n\n   abnormal sensation  abnormally hard consistency  abortion      ...        \\\n0                   0                            0         0      ...         \n1                   0                            0         0      ...         \n2                   0                            0         0      ...         \n3                   0                            0         0      ...         \n4                   0                            0         0      ...         \n\n   vision blurred  vomiting  weepiness  weight gain  welt  wheelchair bound  \\\n0               0         0          0            0     0                 1   \n1               0         0          0            0     0                 0   \n2               0         0          0            0     0                 0   \n3               0         0          0            0     0                 0   \n4               0         0          0            0     0                 0   \n\n   wheezing  withdraw  worry  yellow sputum  \n0         0         0      0              0  \n1         0         0      0              0  \n2         0         0      0              1  \n3         0         0      0              0  \n4         0         0      0              0  \n\n[5 rows x 405 columns]",
            "text/html": "\u003cdiv\u003e\n\u003cstyle scoped\u003e\n    .dataframe tbody tr th:only-of-type {\n        vertical-align: middle;\n    }\n\n    .dataframe tbody tr th {\n        vertical-align: top;\n    }\n\n    .dataframe thead th {\n        text-align: right;\n    }\n\u003c/style\u003e\n\u003ctable border\u003d\"1\" class\u003d\"dataframe\"\u003e\n  \u003cthead\u003e\n    \u003ctr style\u003d\"text-align: right;\"\u003e\n      \u003cth\u003e\u003c/th\u003e\n      \u003cth\u003eSource\u003c/th\u003e\n      \u003cth\u003eHeberden\u0027s node\u003c/th\u003e\n      \u003cth\u003eMurphy\u0027s sign\u003c/th\u003e\n      \u003cth\u003eStahli\u0027s line\u003c/th\u003e\n      \u003cth\u003eabdomen acute\u003c/th\u003e\n      \u003cth\u003eabdominal bloating\u003c/th\u003e\n      \u003cth\u003eabdominal tenderness\u003c/th\u003e\n      \u003cth\u003eabnormal sensation\u003c/th\u003e\n      \u003cth\u003eabnormally hard consistency\u003c/th\u003e\n      \u003cth\u003eabortion\u003c/th\u003e\n      \u003cth\u003e...\u003c/th\u003e\n      \u003cth\u003evision blurred\u003c/th\u003e\n      \u003cth\u003evomiting\u003c/th\u003e\n      \u003cth\u003eweepiness\u003c/th\u003e\n      \u003cth\u003eweight gain\u003c/th\u003e\n      \u003cth\u003ewelt\u003c/th\u003e\n      \u003cth\u003ewheelchair bound\u003c/th\u003e\n      \u003cth\u003ewheezing\u003c/th\u003e\n      \u003cth\u003ewithdraw\u003c/th\u003e\n      \u003cth\u003eworry\u003c/th\u003e\n      \u003cth\u003eyellow sputum\u003c/th\u003e\n    \u003c/tr\u003e\n  \u003c/thead\u003e\n  \u003ctbody\u003e\n    \u003ctr\u003e\n      \u003cth\u003e0\u003c/th\u003e\n      \u003ctd\u003eAlzheimer\u0027s disease\u003c/td\u003e\n      \u003ctd\u003e0\u003c/td\u003e\n      \u003ctd\u003e0\u003c/td\u003e\n      \u003ctd\u003e0\u003c/td\u003e\n      \u003ctd\u003e0\u003c/td\u003e\n      \u003ctd\u003e0\u003c/td\u003e\n      \u003ctd\u003e0\u003c/td\u003e\n      \u003ctd\u003e0\u003c/td\u003e\n      \u003ctd\u003e0\u003c/td\u003e\n      \u003ctd\u003e0\u003c/td\u003e\n      \u003ctd\u003e...\u003c/td\u003e\n      \u003ctd\u003e0\u003c/td\u003e\n      \u003ctd\u003e0\u003c/td\u003e\n      \u003ctd\u003e0\u003c/td\u003e\n      \u003ctd\u003e0\u003c/td\u003e\n      \u003ctd\u003e0\u003c/td\u003e\n      \u003ctd\u003e1\u003c/td\u003e\n      \u003ctd\u003e0\u003c/td\u003e\n      \u003ctd\u003e0\u003c/td\u003e\n      \u003ctd\u003e0\u003c/td\u003e\n      \u003ctd\u003e0\u003c/td\u003e\n    \u003c/tr\u003e\n    \u003ctr\u003e\n      \u003cth\u003e1\u003c/th\u003e\n      \u003ctd\u003eHIV\u003c/td\u003e\n      \u003ctd\u003e0\u003c/td\u003e\n      \u003ctd\u003e0\u003c/td\u003e\n      \u003ctd\u003e0\u003c/td\u003e\n      \u003ctd\u003e0\u003c/td\u003e\n      \u003ctd\u003e0\u003c/td\u003e\n      \u003ctd\u003e0\u003c/td\u003e\n      \u003ctd\u003e0\u003c/td\u003e\n      \u003ctd\u003e0\u003c/td\u003e\n      \u003ctd\u003e0\u003c/td\u003e\n      \u003ctd\u003e...\u003c/td\u003e\n      \u003ctd\u003e0\u003c/td\u003e\n      \u003ctd\u003e0\u003c/td\u003e\n      \u003ctd\u003e0\u003c/td\u003e\n      \u003ctd\u003e0\u003c/td\u003e\n      \u003ctd\u003e0\u003c/td\u003e\n      \u003ctd\u003e0\u003c/td\u003e\n      \u003ctd\u003e0\u003c/td\u003e\n      \u003ctd\u003e0\u003c/td\u003e\n      \u003ctd\u003e0\u003c/td\u003e\n      \u003ctd\u003e0\u003c/td\u003e\n    \u003c/tr\u003e\n    \u003ctr\u003e\n      \u003cth\u003e2\u003c/th\u003e\n      \u003ctd\u003ePneumocystisÃÂ cariniiÃÂ pneumonia\u003c/td\u003e\n      \u003ctd\u003e0\u003c/td\u003e\n      \u003ctd\u003e0\u003c/td\u003e\n      \u003ctd\u003e0\u003c/td\u003e\n      \u003ctd\u003e0\u003c/td\u003e\n      \u003ctd\u003e0\u003c/td\u003e\n      \u003ctd\u003e0\u003c/td\u003e\n      \u003ctd\u003e0\u003c/td\u003e\n      \u003ctd\u003e0\u003c/td\u003e\n      \u003ctd\u003e0\u003c/td\u003e\n      \u003ctd\u003e...\u003c/td\u003e\n      \u003ctd\u003e0\u003c/td\u003e\n      \u003ctd\u003e0\u003c/td\u003e\n      \u003ctd\u003e0\u003c/td\u003e\n      \u003ctd\u003e0\u003c/td\u003e\n      \u003ctd\u003e0\u003c/td\u003e\n      \u003ctd\u003e0\u003c/td\u003e\n      \u003ctd\u003e0\u003c/td\u003e\n      \u003ctd\u003e0\u003c/td\u003e\n      \u003ctd\u003e0\u003c/td\u003e\n      \u003ctd\u003e1\u003c/td\u003e\n    \u003c/tr\u003e\n    \u003ctr\u003e\n      \u003cth\u003e3\u003c/th\u003e\n      \u003ctd\u003eaccidentÃÂ cerebrovascular\u003c/td\u003e\n      \u003ctd\u003e0\u003c/td\u003e\n      \u003ctd\u003e0\u003c/td\u003e\n      \u003ctd\u003e0\u003c/td\u003e\n      \u003ctd\u003e0\u003c/td\u003e\n      \u003ctd\u003e0\u003c/td\u003e\n      \u003ctd\u003e0\u003c/td\u003e\n      \u003ctd\u003e0\u003c/td\u003e\n      \u003ctd\u003e0\u003c/td\u003e\n      \u003ctd\u003e0\u003c/td\u003e\n      \u003ctd\u003e...\u003c/td\u003e\n      \u003ctd\u003e0\u003c/td\u003e\n      \u003ctd\u003e0\u003c/td\u003e\n      \u003ctd\u003e0\u003c/td\u003e\n      \u003ctd\u003e0\u003c/td\u003e\n      \u003ctd\u003e0\u003c/td\u003e\n      \u003ctd\u003e0\u003c/td\u003e\n      \u003ctd\u003e0\u003c/td\u003e\n      \u003ctd\u003e0\u003c/td\u003e\n      \u003ctd\u003e0\u003c/td\u003e\n      \u003ctd\u003e0\u003c/td\u003e\n    \u003c/tr\u003e\n    \u003ctr\u003e\n      \u003cth\u003e4\u003c/th\u003e\n      \u003ctd\u003eacquiredÃÂ immuno-deficiency syndrome\u003c/td\u003e\n      \u003ctd\u003e0\u003c/td\u003e\n      \u003ctd\u003e0\u003c/td\u003e\n      \u003ctd\u003e0\u003c/td\u003e\n      \u003ctd\u003e0\u003c/td\u003e\n      \u003ctd\u003e0\u003c/td\u003e\n      \u003ctd\u003e0\u003c/td\u003e\n      \u003ctd\u003e0\u003c/td\u003e\n      \u003ctd\u003e0\u003c/td\u003e\n      \u003ctd\u003e0\u003c/td\u003e\n      \u003ctd\u003e...\u003c/td\u003e\n      \u003ctd\u003e0\u003c/td\u003e\n      \u003ctd\u003e0\u003c/td\u003e\n      \u003ctd\u003e0\u003c/td\u003e\n      \u003ctd\u003e0\u003c/td\u003e\n      \u003ctd\u003e0\u003c/td\u003e\n      \u003ctd\u003e0\u003c/td\u003e\n      \u003ctd\u003e0\u003c/td\u003e\n      \u003ctd\u003e0\u003c/td\u003e\n      \u003ctd\u003e0\u003c/td\u003e\n      \u003ctd\u003e0\u003c/td\u003e\n    \u003c/tr\u003e\n  \u003c/tbody\u003e\n\u003c/table\u003e\n\u003cp\u003e5 rows × 405 columns\u003c/p\u003e\n\u003c/div\u003e"
          },
          "metadata": {},
          "output_type": "execute_result",
          "execution_count": 1
        }
      ],
      "source": [
        "\n",
        "import pandas as pd\n",
        "\n",
        "disease_symptoms_data_frame\u003dpd.read_csv(\"../data/attributed_dataset_clean.csv\", encoding \u003d\"ISO-8859-1\")\n",
        "disease_symptoms_data_frame.head()\n"
      ]
    },
    {
      "cell_type": "code",
      "execution_count": 2,
      "metadata": {
        "collapsed": true,
        "pycharm": {
          "is_executing": false
        }
      },
      "outputs": [
        {
          "data": {
            "text/plain": [
              "0.0"
            ]
          },
          "execution_count": 2,
          "metadata": {},
          "output_type": "execute_result"
        }
      ],
      "source": [
        "\n",
        "import seaborn as sns\n",
        "import matplotlib.pyplot as plt\n",
        "%matplotlib inline\n",
        "from sklearn.naive_bayes import MultinomialNB\n",
        "from sklearn.cross_validation import train_test_split\n",
        "\n",
        "columns \u003d disease_symptoms_data_frame.columns\n",
        "columns \u003d columns[1:]\n",
        "x \u003d disease_symptoms_data_frame[columns]\n",
        "y \u003d disease_symptoms_data_frame[\u0027Source\u0027]\n",
        "x_train, x_test, y_train, y_test \u003d train_test_split(x, y, test_size\u003d0.33, random_state\u003d42)\n",
        "mnb \u003d MultinomialNB()\n",
        "mnb \u003d mnb.fit(x_train, y_train)\n",
        "mnb.score(x_test, y_test)\n"
      ]
    },
    {
      "cell_type": "code",
      "execution_count": 3,
      "metadata": {
        "pycharm": {
          "is_executing": false,
          "metadata": false,
          "name": "#%%\n"
        }
      },
      "outputs": [
        {
          "name": "stdout",
          "output_type": "stream",
          "text": [
            "Prediction : HIV Actual :acquiredÃÂ immuno-deficiency syndrome\n",
            "Prediction : biliary calculus Actual :cholelithiasis\n",
            "Prediction : coronary arteriosclerosis Actual :coronary heart disease\n",
            "Prediction : depression mental Actual :depressive disorder\n",
            "Prediction : HIV Actual :hiv infections\n",
            "Prediction : carcinoma breast Actual :malignant neoplasm of breast\n",
            "Prediction : carcinoma of lung Actual :malignant neoplasm of lung\n",
            "Prediction : carcinoma prostate Actual :malignant neoplasm of prostate\n",
            "Prediction : carcinoma colon Actual :malignant tumor of colon\n",
            "Prediction : candidiasis Actual :oralcandidiasis\n",
            "Prediction : effusion pericardial Actual :pericardial effusion body substance\n",
            "Prediction : malignant neoplasms Actual :primary malignant neoplasm\n",
            "Prediction : sepsis (invertebrate) Actual :septicemia\n",
            "Prediction : sepsis (invertebrate) Actual :systemic infection\n",
            "Prediction : tonic-clonic epilepsy Actual :tonic-clonic seizures\n"
          ]
        }
      ],
      "source": [
        "# Inferences on train and test split\n",
        "# It can\u0027t work on unseen data because it has never seen that disease before. Also, there is only one point for each disease and hence no point for this. So we need to train the model entirely. Then what will we test it on? Missing data? Say given one symptom what is the disease? This is again multilabel classification. We can work symptom on symptom. What exactly is differential diagnosis, we need to replicate that.\n",
        "\n",
        "mnb_tot \u003d MultinomialNB()\n",
        "mnb_tot \u003d mnb_tot.fit(x, y)\n",
        "mnb_tot.score(x, y)\n",
        "\n",
        "disease_predicted \u003d mnb_tot.predict(x)\n",
        "disease_real \u003d y.values\n",
        "\n",
        "for i in range(0, len(disease_real)):\n",
        "    if disease_predicted[i]!\u003ddisease_real[i]:\n",
        "        print (\u0027Prediction : {0} Actual :{1}\u0027.format(disease_predicted[i], disease_real[i]))\n",
        "\n",
        "# These are the predicted versus actual diseases that our classifier misclassifies.\n"
      ]
    }
  ],
  "metadata": {
    "kernelspec": {
      "name": "python2",
      "language": "python",
      "display_name": "Python 2"
    },
    "language_info": {
      "codemirror_mode": {
        "name": "ipython",
        "version": 2
      },
      "file_extension": ".py",
      "mimetype": "text/x-python",
      "name": "python",
      "nbconvert_exporter": "python",
      "pygments_lexer": "ipython2",
      "version": "2.7.6"
    },
    "stem_cell": {
      "cell_type": "raw",
      "metadata": {
        "pycharm": {
          "metadata": false
        }
      },
      "source": ""
    }
  },
  "nbformat": 4,
  "nbformat_minor": 1
}