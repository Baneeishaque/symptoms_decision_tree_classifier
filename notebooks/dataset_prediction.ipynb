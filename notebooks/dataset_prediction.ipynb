{
  "cells": [
    {
      "cell_type": "code",
      "execution_count": 7,
      "metadata": {
        "collapsed": true,
        "pycharm": {
          "is_executing": false
        }
      },
      "outputs": [
        {
          "data": {
            "text/plain": "                 Source               Target  Weight\n0  hypertensive disease           pain chest    3363\n1  hypertensive disease  shortness of breath    3363\n2  hypertensive disease            dizziness    3363\n3  hypertensive disease             asthenia    3363\n4  hypertensive disease                 fall    3363",
            "text/html": "\u003cdiv\u003e\n\u003cstyle scoped\u003e\n    .dataframe tbody tr th:only-of-type {\n        vertical-align: middle;\n    }\n\n    .dataframe tbody tr th {\n        vertical-align: top;\n    }\n\n    .dataframe thead th {\n        text-align: right;\n    }\n\u003c/style\u003e\n\u003ctable border\u003d\"1\" class\u003d\"dataframe\"\u003e\n  \u003cthead\u003e\n    \u003ctr style\u003d\"text-align: right;\"\u003e\n      \u003cth\u003e\u003c/th\u003e\n      \u003cth\u003eSource\u003c/th\u003e\n      \u003cth\u003eTarget\u003c/th\u003e\n      \u003cth\u003eWeight\u003c/th\u003e\n    \u003c/tr\u003e\n  \u003c/thead\u003e\n  \u003ctbody\u003e\n    \u003ctr\u003e\n      \u003cth\u003e0\u003c/th\u003e\n      \u003ctd\u003ehypertensive disease\u003c/td\u003e\n      \u003ctd\u003epain chest\u003c/td\u003e\n      \u003ctd\u003e3363\u003c/td\u003e\n    \u003c/tr\u003e\n    \u003ctr\u003e\n      \u003cth\u003e1\u003c/th\u003e\n      \u003ctd\u003ehypertensive disease\u003c/td\u003e\n      \u003ctd\u003eshortness of breath\u003c/td\u003e\n      \u003ctd\u003e3363\u003c/td\u003e\n    \u003c/tr\u003e\n    \u003ctr\u003e\n      \u003cth\u003e2\u003c/th\u003e\n      \u003ctd\u003ehypertensive disease\u003c/td\u003e\n      \u003ctd\u003edizziness\u003c/td\u003e\n      \u003ctd\u003e3363\u003c/td\u003e\n    \u003c/tr\u003e\n    \u003ctr\u003e\n      \u003cth\u003e3\u003c/th\u003e\n      \u003ctd\u003ehypertensive disease\u003c/td\u003e\n      \u003ctd\u003easthenia\u003c/td\u003e\n      \u003ctd\u003e3363\u003c/td\u003e\n    \u003c/tr\u003e\n    \u003ctr\u003e\n      \u003cth\u003e4\u003c/th\u003e\n      \u003ctd\u003ehypertensive disease\u003c/td\u003e\n      \u003ctd\u003efall\u003c/td\u003e\n      \u003ctd\u003e3363\u003c/td\u003e\n    \u003c/tr\u003e\n  \u003c/tbody\u003e\n\u003c/table\u003e\n\u003c/div\u003e"
          },
          "metadata": {},
          "output_type": "execute_result",
          "execution_count": 7
        }
      ],
      "source": "\nimport pandas as pd\n\ndisease_symptoms_data_frame\u003dpd.read_csv(\"../data/titled_dataset_clean.csv\", encoding \u003d\"ISO-8859-1\")\ndisease_symptoms_data_frame.head()\n"
    },
    {
      "cell_type": "code",
      "execution_count": 9,
      "outputs": [],
      "source": "columns \u003d disease_symptoms_data_frame.columns\ncolumns \u003d columns[1:]\n",
      "metadata": {
        "pycharm": {
          "metadata": false,
          "name": "#%%\n",
          "is_executing": false
        }
      }
    },
    {
      "cell_type": "code",
      "execution_count": 10,
      "outputs": [],
      "source": "features \u003d columns\nfeature_dict \u003d {}\nfor i,f in enumerate(features):\n    feature_dict[f] \u003d i\n    ",
      "metadata": {
        "pycharm": {
          "metadata": false,
          "name": "#%%\n",
          "is_executing": false
        }
      }
    },
    {
      "cell_type": "code",
      "execution_count": 11,
      "outputs": [
        {
          "ename": "KeyError",
          "evalue": "\u0027redness_of_eyes\u0027",
          "traceback": [
            "\u001b[1;31m\u001b[0m",
            "\u001b[1;31mKeyError\u001b[0mTraceback (most recent call last)",
            "\u001b[1;32m\u003cipython-input-11-17a919da9ca9\u003e\u001b[0m in \u001b[0;36m\u003cmodule\u003e\u001b[1;34m()\u001b[0m\n\u001b[1;32m----\u003e 1\u001b[1;33m \u001b[0mfeature_dict\u001b[0m\u001b[1;33m[\u001b[0m\u001b[1;34m\u0027redness_of_eyes\u0027\u001b[0m\u001b[1;33m]\u001b[0m\u001b[1;33m\u001b[0m\u001b[0m\n\u001b[0m",
            "\u001b[1;31mKeyError\u001b[0m: \u0027redness_of_eyes\u0027"
          ],
          "output_type": "error"
        }
      ],
      "source": "feature_dict[\u0027redness_of_eyes\u0027]",
      "metadata": {
        "pycharm": {
          "metadata": false,
          "name": "#%%\n",
          "is_executing": false
        }
      }
    },
    {
      "cell_type": "code",
      "execution_count": null,
      "outputs": [],
      "source": "sample_x \u003d [i/52 if i \u003d\u003d52 else i*0 for i in range(len(features))]",
      "metadata": {
        "pycharm": {
          "metadata": false,
          "name": "#%%\n"
        }
      }
    },
    {
      "cell_type": "markdown",
      "source": "This means predicting the disease where the only symptom is redness_of_eyes.",
      "metadata": {
        "pycharm": {
          "metadata": false
        }
      }
    },
    {
      "cell_type": "code",
      "execution_count": null,
      "outputs": [],
      "source": "len(sample_x)",
      "metadata": {
        "pycharm": {
          "metadata": false,
          "name": "#%%\n"
        }
      }
    },
    {
      "cell_type": "code",
      "execution_count": null,
      "outputs": [],
      "source": "sample_x \u003d np.array(sample_x).reshape(1,len(sample_x))",
      "metadata": {
        "pycharm": {
          "metadata": false,
          "name": "#%%\n"
        }
      }
    },
    {
      "cell_type": "code",
      "execution_count": null,
      "outputs": [],
      "source": "dt.predict(sample_x)",
      "metadata": {
        "pycharm": {
          "metadata": false,
          "name": "#%%\n"
        }
      }
    },
    {
      "cell_type": "code",
      "execution_count": null,
      "outputs": [],
      "source": "dt.predict_proba(sample_x)",
      "metadata": {
        "pycharm": {
          "metadata": false,
          "name": "#%%\n"
        }
      }
    },
    {
      "cell_type": "markdown",
      "source": "Hence it has 100% confidence that the disease would be Common Cold. The prediction would improve once we take more symptoms as input.",
      "metadata": {
        "pycharm": {
          "metadata": false
        }
      }
    },
    {
      "cell_type": "markdown",
      "source": "\u003chr\u003e",
      "metadata": {
        "pycharm": {
          "metadata": false
        }
      }
    }
  ],
  "metadata": {
    "language_info": {
      "codemirror_mode": {
        "name": "ipython",
        "version": 2
      },
      "file_extension": ".py",
      "mimetype": "text/x-python",
      "name": "python",
      "nbconvert_exporter": "python",
      "pygments_lexer": "ipython2",
      "version": "2.7.6"
    },
    "kernelspec": {
      "name": "python2",
      "language": "python",
      "display_name": "Python 2"
    }
  },
  "nbformat": 4,
  "nbformat_minor": 0
}